{
 "cells": [
  {
   "cell_type": "code",
   "execution_count": null,
   "metadata": {},
   "outputs": [],
   "source": [
    "import matplotlib.pyplot as plt\n",
    "import sys\n",
    "import math\n",
    "sys.path.append(\"..\\\\lib\")\n",
    "from pylib import pltInit,Point,DataFile"
   ]
  },
  {
   "cell_type": "code",
   "execution_count": null,
   "metadata": {},
   "outputs": [],
   "source": [
    "def drawSteps(methods:list[str]):\n",
    "    \"\"\"\n",
    "    各整列方式による比較回数を図示\n",
    "    \"\"\"\n",
    "    plt.figure(figsize=(18,12), facecolor='white')\n",
    "    plt.xscale('log')\n",
    "    plt.yscale('log')\n",
    "    plt.xlabel(\"$N$\")\n",
    "    plt.ylabel('$S(N)$')\n",
    "    plt.xlim(1,1e3)\n",
    "    plt.ylim(1,1e6)\n",
    "    for s in methods:\n",
    "        filename = s+'.txt'\n",
    "        x, y = DataFile(filename).readData()\n",
    "        label = s.replace('Sort',' Sort')\n",
    "        plt.scatter(x,y,label=label)\n",
    "    n = 128\n",
    "    xList = [x/n for x in range(1,1000*n)]\n",
    "    yList = [x*x for x in xList]\n",
    "    zList = [x*math.log(x) for x in xList]\n",
    "    plt.plot(xList,yList,label='$x^2$')\n",
    "    plt.plot(xList,zList,label='$x\\\\ln x$')\n",
    "    plt.legend()\n",
    "    plt.savefig(\"CountSteps.pdf\")    "
   ]
  },
  {
   "cell_type": "code",
   "execution_count": null,
   "metadata": {},
   "outputs": [],
   "source": [
    "def drawLS(data:DataFile):\n",
    "    \"\"\"\n",
    "    x^2とx ln xを比較\n",
    "    \"\"\"\n",
    "    plt.figure(figsize=(10,10),facecolor='white')\n",
    "    plt.title(\"Order of comparisons\")\n",
    "    plt.xlabel('$x$')\n",
    "    plt.xlim(0,100)\n",
    "    plt.ylim(0,10000)\n",
    "    xList, yList = data.readData()\n",
    "    plt.scatter(xList,yList,label='$x^2$')\n",
    "    xList, yList = data.readData(y=2)\n",
    "    plt.scatter(xList,yList,label='$x\\\\ln x$')\n",
    "    plt.legend()\n",
    "    plt.savefig(\"OrderOfComparisonsLS.pdf\")\n"
   ]
  },
  {
   "cell_type": "code",
   "execution_count": null,
   "metadata": {},
   "outputs": [],
   "source": [
    "def drawLogLog(data:DataFile):\n",
    "    \"\"\"\n",
    "    x^2とx ln xを比較: 両対数\n",
    "    \"\"\"\n",
    "    plt.figure(figsize=(10,10),facecolor='white')\n",
    "    plt.title(\"Order of comparisons\")\n",
    "    plt.xlabel('$x$')\n",
    "    plt.xscale('log')\n",
    "    plt.yscale('log')\n",
    "    plt.xlim(1,1e06)\n",
    "    plt.ylim(1,1e10)\n",
    "    xList, yList = data.readData()\n",
    "    plt.scatter(xList,yList,label='$x^2$')\n",
    "    xList, yList = data.readData(y=2)\n",
    "    plt.scatter(xList,yList,label='$x\\\\ln x$')\n",
    "    plt.legend()\n",
    "    plt.savefig(\"OrderOfComparisons.pdf\")"
   ]
  },
  {
   "cell_type": "code",
   "execution_count": null,
   "metadata": {},
   "outputs": [],
   "source": [
    "pltInit()\n",
    "#各整列方式の比較回数\n",
    "methods = ['BubbleSort','InsertionSort','SelectionSort','MergeSort','QuickSort']\n",
    "drawSteps(methods)\n",
    "#x^2とx ln xを比較\n",
    "data = DataFile('OrderOfComparisons.txt')\n",
    "drawLS(data)\n",
    "drawLogLog(data)"
   ]
  }
 ],
 "metadata": {
  "kernelspec": {
   "display_name": "myenv",
   "language": "python",
   "name": "python3"
  },
  "language_info": {
   "codemirror_mode": {
    "name": "ipython",
    "version": 3
   },
   "file_extension": ".py",
   "mimetype": "text/x-python",
   "name": "python",
   "nbconvert_exporter": "python",
   "pygments_lexer": "ipython3",
   "version": "3.10.8 | packaged by conda-forge | (main, Nov 22 2022, 08:16:33) [MSC v.1929 64 bit (AMD64)]"
  },
  "orig_nbformat": 4,
  "vscode": {
   "interpreter": {
    "hash": "b3b804b6b7a7d9b475cf928428dd1242016eacc24c47853aaf0f8d1d2228aa39"
   }
  }
 },
 "nbformat": 4,
 "nbformat_minor": 2
}
